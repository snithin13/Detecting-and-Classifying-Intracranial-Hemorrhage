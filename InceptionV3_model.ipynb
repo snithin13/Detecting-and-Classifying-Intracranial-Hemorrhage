{
 "cells": [
  {
   "cell_type": "code",
   "execution_count": 1,
   "metadata": {
    "colab": {},
    "colab_type": "code",
    "id": "z60byMaPW5Im"
   },
   "outputs": [
    {
     "name": "stderr",
     "output_type": "stream",
     "text": [
      "/home/sichun1247/anaconda3/lib/python3.6/site-packages/h5py/__init__.py:36: FutureWarning: Conversion of the second argument of issubdtype from `float` to `np.floating` is deprecated. In future, it will be treated as `np.float64 == np.dtype(float).type`.\n",
      "  from ._conv import register_converters as _register_converters\n",
      "Using TensorFlow backend.\n"
     ]
    }
   ],
   "source": [
    "import numpy as np\n",
    "import pandas as pd\n",
    "import pydicom\n",
    "import os\n",
    "from os import listdir\n",
    "from os.path import isfile, join\n",
    "import matplotlib.pyplot as plt\n",
    "import collections\n",
    "from tqdm import tqdm_notebook as tqdm\n",
    "from datetime import datetime\n",
    "\n",
    "from math import ceil, floor, log\n",
    "import cv2\n",
    "\n",
    "import tensorflow as tf\n",
    "import keras\n",
    "\n",
    "import sys\n",
    "\n",
    "# from keras_applications.resnet import ResNet50\n",
    "from keras_applications.inception_v3 import InceptionV3\n",
    "from keras.applications.xception import Xception\n",
    "\n",
    "from sklearn.model_selection import ShuffleSplit\n",
    "\n",
    "test_images_dir = '/home/sichun1247/Sampled_Test/'\n",
    "train_images_dir = '/home/sichun1247/Sampled_Train/'"
   ]
  },
  {
   "cell_type": "code",
   "execution_count": 2,
   "metadata": {
    "colab": {},
    "colab_type": "code",
    "id": "NUUUyBcIjH_z"
   },
   "outputs": [],
   "source": [
    "def read_testset(filename=\"/home/sichun1247/test_sample.csv\"):\n",
    "    df = pd.read_csv(filename)\n",
    "\n",
    "    \n",
    "    df = df.loc[:, [\"Label\", \"Type\", \"ID_Image\"]]\n",
    "    df = df.set_index(['ID_Image', 'Type']).unstack(level=-1)\n",
    "    \n",
    "    return df\n",
    "\n",
    "def read_trainset(filename=\"/home/sichun1247/train_sample.csv\"):\n",
    "    df = pd.read_csv(filename)\n",
    "\n",
    "    \n",
    "    \n",
    "    df = df.loc[:, [\"Label\", \"Type\", \"ID_Image\"]]\n",
    "    df = df.set_index(['ID_Image', 'Type']).unstack(level=-1)\n",
    "    \n",
    "    return df\n",
    "\n",
    "train_df = read_trainset()   \n",
    "test_df = read_testset()"
   ]
  },
  {
   "cell_type": "code",
   "execution_count": 3,
   "metadata": {},
   "outputs": [],
   "source": [
    "import os\n",
    "dirct = os.listdir('/home/sichun1247/Sampled_Train')\n",
    "train_ID = []\n",
    "for f_name in dirct:\n",
    "    if f_name.endswith('.dcm'):\n",
    "        f, _ = f_name.split('.')\n",
    "        train_ID.append(f)"
   ]
  },
  {
   "cell_type": "code",
   "execution_count": 4,
   "metadata": {},
   "outputs": [],
   "source": [
    "import os\n",
    "dirct = os.listdir('/home/sichun1247/Sampled_Test')\n",
    "test_ID = []\n",
    "for f_name in dirct:\n",
    "    if f_name.endswith('.dcm'):\n",
    "        f, _ = f_name.split('.')\n",
    "        test_ID.append(f)"
   ]
  },
  {
   "cell_type": "code",
   "execution_count": 5,
   "metadata": {},
   "outputs": [],
   "source": [
    "tt = np.load('train1.npy')\n",
    "pp = np.load('train2.npy')\n",
    "p_train = []\n",
    "for item in tt:\n",
    "    p_train.append(item)\n",
    "for item in pp:\n",
    "    p_train.append(item)\n",
    "test = np.load('test.npy')\n",
    "p_test = []\n",
    "for item in test:\n",
    "    p_test.append(item)\n",
    "l_train =  list(zip(train_ID, p_train))\n",
    "l_test =  list(zip(test_ID, p_test))"
   ]
  },
  {
   "cell_type": "code",
   "execution_count": 6,
   "metadata": {
    "colab": {},
    "colab_type": "code",
    "id": "O5syh-YNF0B3"
   },
   "outputs": [],
   "source": [
    "def correct_dcm(dcm):\n",
    "    x = dcm.pixel_array + 1000\n",
    "    px_mode = 4096\n",
    "    x[x>=px_mode] = x[x>=px_mode] - px_mode\n",
    "    dcm.PixelData = x.tobytes()\n",
    "    dcm.RescaleIntercept = -1000"
   ]
  },
  {
   "cell_type": "code",
   "execution_count": 10,
   "metadata": {
    "colab": {},
    "colab_type": "code",
    "id": "6l7QKHv_GEa4"
   },
   "outputs": [],
   "source": [
    "def window_image(dcm, window_center, window_width):\n",
    "    \n",
    "    if (dcm.BitsStored == 12) and (dcm.PixelRepresentation == 0) and (int(dcm.RescaleIntercept) > -100):\n",
    "        correct_dcm(dcm)\n",
    "    \n",
    "    img = dcm.pixel_array * dcm.RescaleSlope + dcm.RescaleIntercept\n",
    "    img_min = window_center - window_width // 2\n",
    "    img_max = window_center + window_width // 2\n",
    "    img = np.clip(img, img_min, img_max)\n",
    "\n",
    "    return img"
   ]
  },
  {
   "cell_type": "code",
   "execution_count": 11,
   "metadata": {
    "colab": {},
    "colab_type": "code",
    "id": "ZelHSMlOGPsI"
   },
   "outputs": [],
   "source": [
    "def bsb_window(dcm):\n",
    "    brain_img = window_image(dcm, 40, 80)\n",
    "    subdural_img = window_image(dcm, 80, 200)\n",
    "    soft_img = window_image(dcm, 40, 380)\n",
    "    \n",
    "    brain_img = (brain_img - 0) / 80\n",
    "    subdural_img = (subdural_img - (-20)) / 200\n",
    "    soft_img = (soft_img - (-150)) / 380\n",
    "    bsb_img = np.array([brain_img, subdural_img, soft_img]).transpose(1,2,0)\n",
    "\n",
    "    return bsb_img"
   ]
  },
  {
   "cell_type": "code",
   "execution_count": 3,
   "metadata": {},
   "outputs": [],
   "source": [
    "#train_images_dir = '/home/sichun1247/stage_1_train_images/'"
   ]
  },
  {
   "cell_type": "code",
   "execution_count": 4,
   "metadata": {
    "colab": {},
    "colab_type": "code",
    "id": "eYWbnheEGn31"
   },
   "outputs": [],
   "source": [
    "#dicom = pydicom.dcmread(train_images_dir + 'ID_036db39b7' + '.dcm')"
   ]
  },
  {
   "cell_type": "code",
   "execution_count": 5,
   "metadata": {},
   "outputs": [
    {
     "name": "stdout",
     "output_type": "stream",
     "text": [
      "(0008, 0018) SOP Instance UID                    UI: ID_036db39b7\n",
      "(0008, 0060) Modality                            CS: 'CT'\n",
      "(0010, 0020) Patient ID                          LO: 'ID_657b33db'\n",
      "(0020, 000d) Study Instance UID                  UI: ID_bcb282cac7\n",
      "(0020, 000e) Series Instance UID                 UI: ID_7fba670739\n",
      "(0020, 0010) Study ID                            SH: ''\n",
      "(0020, 0032) Image Position (Patient)            DS: ['-125', '-17.3514035', '162.459298']\n",
      "(0020, 0037) Image Orientation (Patient)         DS: ['1', '0', '0', '0', '0.961261696', '-0.275637356']\n",
      "(0028, 0002) Samples per Pixel                   US: 1\n",
      "(0028, 0004) Photometric Interpretation          CS: 'MONOCHROME2'\n",
      "(0028, 0010) Rows                                US: 512\n",
      "(0028, 0011) Columns                             US: 512\n",
      "(0028, 0030) Pixel Spacing                       DS: ['0.48828125', '0.48828125']\n",
      "(0028, 0100) Bits Allocated                      US: 16\n",
      "(0028, 0101) Bits Stored                         US: 12\n",
      "(0028, 0102) High Bit                            US: 11\n",
      "(0028, 0103) Pixel Representation                US: 0\n",
      "(0028, 1050) Window Center                       DS: ['00047', '00047']\n",
      "(0028, 1051) Window Width                        DS: ['00080', '00080']\n",
      "(0028, 1052) Rescale Intercept                   DS: \"0\"\n",
      "(0028, 1053) Rescale Slope                       DS: \"1\"\n",
      "(7fe0, 0010) Pixel Data                          OW: Array of 524288 elements\n"
     ]
    }
   ],
   "source": [
    "#print(dicom)"
   ]
  },
  {
   "cell_type": "code",
   "execution_count": 7,
   "metadata": {
    "colab": {
     "base_uri": "https://localhost:8080/",
     "height": 286
    },
    "colab_type": "code",
    "executionInfo": {
     "elapsed": 392,
     "status": "ok",
     "timestamp": 1575090663984,
     "user": {
      "displayName": "Sichun Zuo",
      "photoUrl": "https://lh3.googleusercontent.com/a-/AAuE7mBbvNPPZddp06xrNsEAX05qV2sJq2DdTKmNNsuOzw=s64",
      "userId": "06566280182140570788"
     },
     "user_tz": 360
    },
    "id": "1rxdiJZBRsL1",
    "outputId": "1d46409b-02f3-4796-eab2-0626c1acfab3"
   },
   "outputs": [
    {
     "data": {
      "text/plain": [
       "<matplotlib.image.AxesImage at 0x7efde1dd1588>"
      ]
     },
     "execution_count": 7,
     "metadata": {},
     "output_type": "execute_result"
    },
    {
     "data": {
      "image/png": "[encoded data removed]",
      "text/plain": [
       "<Figure size 432x288 with 1 Axes>"
      ]
     },
     "metadata": {},
     "output_type": "display_data"
    }
   ],
   "source": [
    "plt.imshow(dicom.pixel_array, cmap=plt.cm.bone)"
   ]
  },
  {
   "cell_type": "code",
   "execution_count": 0,
   "metadata": {
    "colab": {
     "base_uri": "https://localhost:8080/",
     "height": 286
    },
    "colab_type": "code",
    "executionInfo": {
     "elapsed": 1816,
     "status": "ok",
     "timestamp": 1574560431087,
     "user": {
      "displayName": "Sichun Zuo",
      "photoUrl": "",
      "userId": "16994170962574896162"
     },
     "user_tz": 360
    },
    "id": "aIUuDhhaHPaz",
    "outputId": "dbd3e322-125e-4dc7-d8ba-9448cb0cbed0"
   },
   "outputs": [
    {
     "data": {
      "text/plain": [
       "<matplotlib.image.AxesImage at 0x7f225f579be0>"
      ]
     },
     "execution_count": 32,
     "metadata": {
      "tags": []
     },
     "output_type": "execute_result"
    },
    {
     "data": {
      "image/png": "[encoded data removed]",
      "text/plain": [
       "<Figure size 432x288 with 1 Axes>"
      ]
     },
     "metadata": {
      "tags": []
     },
     "output_type": "display_data"
    }
   ],
   "source": [
    "plt.imshow(bsb_window(dicom), cmap=plt.cm.bone)"
   ]
  },
  {
   "cell_type": "code",
   "execution_count": 12,
   "metadata": {
    "colab": {
     "base_uri": "https://localhost:8080/",
     "height": 268
    },
    "colab_type": "code",
    "executionInfo": {
     "elapsed": 619,
     "status": "ok",
     "timestamp": 1575090669836,
     "user": {
      "displayName": "Sichun Zuo",
      "photoUrl": "https://lh3.googleusercontent.com/a-/AAuE7mBbvNPPZddp06xrNsEAX05qV2sJq2DdTKmNNsuOzw=s64",
      "userId": "06566280182140570788"
     },
     "user_tz": 360
    },
    "id": "zM7Dmqw1IfCI",
    "outputId": "a923c8e8-0c42-40b2-f166-6fadc43aa767"
   },
   "outputs": [],
   "source": [
    "def _read(path, desired_size):\n",
    "    \"\"\"Will be used in DataGenerator\"\"\"\n",
    "    \n",
    "    dcm = pydicom.dcmread(path)\n",
    "    \n",
    "    try:\n",
    "        img = bsb_window(dcm)\n",
    "    except:\n",
    "        img = np.zeros(desired_size)\n",
    "    \n",
    "    \n",
    "    img = cv2.resize(img, desired_size[:2], interpolation=cv2.INTER_LINEAR)\n",
    "    \n",
    "    return img\n",
    "\n",
    "# Another sanity check \n",
    "#plt.imshow(\n",
    "#    _read(train_images_dir+'ID_00c7ee95d'+'.dcm', (128, 128)), cmap=plt.cm.bone\n",
    "# );"
   ]
  },
  {
   "cell_type": "code",
   "execution_count": 3,
   "metadata": {},
   "outputs": [],
   "source": [
    "tt = np.load('train1.npy')\n",
    "pp = np.load('train2.npy')\n",
    "p_train = []\n",
    "for item in tt:\n",
    "    p_train.append(item)\n",
    "for item in pp:\n",
    "    p_train.append(item)\n",
    "train_images = [f for f in listdir(train_images_dir) if isfile(join(train_images_dir, f))]\n",
    "train_images_ID = [s.strip('.dcm') for s in train_images]\n",
    "l_train =  list(zip(train_images_ID, p_train))\n",
    "#train_pixel = pd.DataFrame(l_train, columns = ['ID_Image' , 'pixel']) "
   ]
  },
  {
   "cell_type": "code",
   "execution_count": 4,
   "metadata": {},
   "outputs": [],
   "source": [
    "test = np.load('test.npy')\n",
    "p_test = []\n",
    "for item in test:\n",
    "    p_test.append(item)\n",
    "test_images = [f for f in listdir(test_images_dir) if isfile(join(test_images_dir, f))]\n",
    "test_images_ID = [s.strip('.dcm') for s in test_images]\n",
    "l_test =  list(zip(test_images_ID, p_test))\n",
    "# test_pixel = pd.DataFrame(l_test, columns = ['ID_Image' , 'pixel'])\n",
    "# given ID read pixel ID_a0d12bb79\n",
    "#[x[1] for x in l_test if x[0] == 'ID_a0d12bb79']"
   ]
  },
  {
   "cell_type": "code",
   "execution_count": 15,
   "metadata": {},
   "outputs": [],
   "source": [
    "a = _read('/home/sichun1247/Sampled_Test/'+'ID_a0d12bb79'+\".dcm\", (128,128,3))"
   ]
  },
  {
   "cell_type": "code",
   "execution_count": 16,
   "metadata": {},
   "outputs": [
    {
     "data": {
      "text/plain": [
       "(128, 128, 3)"
      ]
     },
     "execution_count": 16,
     "metadata": {},
     "output_type": "execute_result"
    }
   ],
   "source": [
    "np.shape(a)"
   ]
  },
  {
   "cell_type": "code",
   "execution_count": 19,
   "metadata": {},
   "outputs": [],
   "source": [
    "b = [x[1] for x in l_test if x[0] == 'ID_a0d12bb79'][0]"
   ]
  },
  {
   "cell_type": "code",
   "execution_count": 20,
   "metadata": {},
   "outputs": [
    {
     "data": {
      "text/plain": [
       "(128, 128, 3)"
      ]
     },
     "execution_count": 20,
     "metadata": {},
     "output_type": "execute_result"
    }
   ],
   "source": [
    "np.shape(b)"
   ]
  },
  {
   "cell_type": "code",
   "execution_count": 14,
   "metadata": {
    "colab": {},
    "colab_type": "code",
    "id": "1P18YGs8JLz1"
   },
   "outputs": [],
   "source": [
    "class DataGenerator(keras.utils.Sequence):\n",
    "\n",
    "    def __init__(self, list_IDs, labels=None, batch_size=1, img_size=(512, 512, 1), \n",
    "                 img_dir=train_images_dir, *args, **kwargs):\n",
    "\n",
    "        self.list_IDs = list_IDs\n",
    "        self.labels = labels\n",
    "        self.batch_size = batch_size\n",
    "        self.img_size = img_size\n",
    "        self.img_dir = img_dir\n",
    "        self.on_epoch_end()\n",
    "\n",
    "    def __len__(self):\n",
    "        return int(ceil(len(self.indices) / self.batch_size))\n",
    "\n",
    "    def __getitem__(self, index):\n",
    "        indices = self.indices[index*self.batch_size:(index+1)*self.batch_size]\n",
    "        list_IDs_temp = [self.list_IDs[k] for k in indices]\n",
    "        \n",
    "        if self.labels is not None:\n",
    "            X, Y = self.__data_generation(list_IDs_temp)\n",
    "            return X, Y\n",
    "        else:\n",
    "            X = self.__data_generation(list_IDs_temp)\n",
    "            return X\n",
    "        \n",
    "    def on_epoch_end(self):\n",
    "        \n",
    "        \n",
    "        if self.labels is not None: # for training phase we undersample and shuffle\n",
    "            # keep probability of any=0 and any=1\n",
    "            keep_prob = self.labels.iloc[:, 0].map({0: 0.35, 1: 0.5})\n",
    "            keep = (keep_prob > np.random.rand(len(keep_prob)))\n",
    "            self.indices = np.arange(len(self.list_IDs))[keep]\n",
    "            np.random.shuffle(self.indices)\n",
    "        else:\n",
    "            self.indices = np.arange(len(self.list_IDs))\n",
    "\n",
    "    def __data_generation(self, list_IDs_temp):\n",
    "        X = np.empty((self.batch_size, *self.img_size))\n",
    "        \n",
    "        if self.labels is not None: # training phase\n",
    "            Y = np.empty((self.batch_size, 6), dtype=np.float32)\n",
    "        \n",
    "            for i, ID in enumerate(list_IDs_temp):\n",
    "                #X[i,] = _read(self.img_dir+ID+\".dcm\", self.img_size)\n",
    "                X[i,] = [x[1] for x in l_train if x[0] == ID][0]\n",
    "                Y[i,] = self.labels.loc[ID].values\n",
    "        \n",
    "            return X, Y\n",
    "        \n",
    "        else: # test phase\n",
    "            if self.img_dir == '/home/sichun1247/Sampled_Test/':\n",
    "                for i, ID in enumerate(list_IDs_temp):\n",
    "                    #X[i,] = _read(self.img_dir+ID+\".dcm\", self.img_size)\n",
    "                    X[i,] = [x[1] for x in l_test if x[0] == ID][0]\n",
    "            else:\n",
    "                for i, ID in enumerate(list_IDs_temp):\n",
    "                    #X[i,] = _read(self.img_dir+ID+\".dcm\", self.img_size)\n",
    "                    X[i,] = [x[1] for x in l_train if x[0] == ID][0]\n",
    "            \n",
    "            return X"
   ]
  },
  {
   "cell_type": "code",
   "execution_count": 8,
   "metadata": {
    "colab": {},
    "colab_type": "code",
    "id": "fwxpTvmFKMUX"
   },
   "outputs": [],
   "source": [
    "from keras import backend as K\n",
    "\n",
    "def weighted_log_loss(y_true, y_pred):\n",
    "    \"\"\"\n",
    "    Can be used as the loss function in model.compile()\n",
    "    ---------------------------------------------------\n",
    "    \"\"\"\n",
    "    \n",
    "    class_weights = np.array([2., 1., 1., 1., 1., 1.])\n",
    "    \n",
    "    eps = K.epsilon()\n",
    "    \n",
    "    y_pred = K.clip(y_pred, eps, 1.0-eps)\n",
    "\n",
    "    out = -(         y_true  * K.log(      y_pred) * class_weights\n",
    "            + (1.0 - y_true) * K.log(1.0 - y_pred) * class_weights)\n",
    "    \n",
    "    return K.mean(out, axis=-1)\n",
    "\n",
    "\n",
    "def _normalized_weighted_average(arr, weights=None):\n",
    "    \"\"\"\n",
    "    A simple Keras implementation that mimics that of \n",
    "    numpy.average(), specifically for this competition\n",
    "    \"\"\"\n",
    "    \n",
    "    if weights is not None:\n",
    "        scl = K.sum(weights)\n",
    "        weights = K.expand_dims(weights, axis=1)\n",
    "        return K.sum(K.dot(arr, weights), axis=1) / scl\n",
    "    return K.mean(arr, axis=1)\n",
    "\n",
    "\n",
    "def weighted_loss(y_true, y_pred):\n",
    "    \"\"\"\n",
    "    Will be used as the metric in model.compile()\n",
    "    ---------------------------------------------\n",
    "    \n",
    "    Similar to the custom loss function 'weighted_log_loss()' above\n",
    "    but with normalized weights, which should be very similar \n",
    "    to the official competition metric:\n",
    "        https://www.kaggle.com/kambarakun/lb-probe-weights-n-of-positives-scoring\n",
    "    and hence:\n",
    "        sklearn.metrics.log_loss with sample weights\n",
    "    \"\"\"\n",
    "    \n",
    "    class_weights = K.variable([2., 1., 1., 1., 1., 1.])\n",
    "    \n",
    "    eps = K.epsilon()\n",
    "    \n",
    "    y_pred = K.clip(y_pred, eps, 1.0-eps)\n",
    "\n",
    "    loss = -(        y_true  * K.log(      y_pred)\n",
    "            + (1.0 - y_true) * K.log(1.0 - y_pred))\n",
    "    \n",
    "    loss_samples = _normalized_weighted_average(loss, class_weights)\n",
    "    \n",
    "    return K.mean(loss_samples)\n",
    "\n",
    "\n",
    "def weighted_log_loss_metric(trues, preds):\n",
    "    \"\"\"\n",
    "    Will be used to calculate the log loss \n",
    "    of the validation set in PredictionCheckpoint()\n",
    "    ------------------------------------------\n",
    "    \"\"\"\n",
    "    class_weights = [2., 1., 1., 1., 1., 1.]\n",
    "    \n",
    "    epsilon = 1e-7\n",
    "    \n",
    "    preds = np.clip(preds, epsilon, 1-epsilon)\n",
    "    loss = trues * np.log(preds) + (1 - trues) * np.log(1 - preds)\n",
    "    loss_samples = np.average(loss, axis=1, weights=class_weights)\n",
    "\n",
    "    return - loss_samples.mean()"
   ]
  },
  {
   "cell_type": "code",
   "execution_count": 9,
   "metadata": {
    "colab": {},
    "colab_type": "code",
    "id": "tjwTqcQJLI9R"
   },
   "outputs": [],
   "source": [
    "class PredictionCheckpoint(keras.callbacks.Callback):\n",
    "    \n",
    "    def __init__(self, test_df, valid_df, \n",
    "                 test_images_dir=test_images_dir, \n",
    "                 valid_images_dir=train_images_dir, \n",
    "                 batch_size=32, input_size=(224, 224, 3)):\n",
    "        \n",
    "        self.test_df = test_df\n",
    "        self.valid_df = valid_df\n",
    "        self.test_images_dir = test_images_dir\n",
    "        self.valid_images_dir = valid_images_dir\n",
    "        self.batch_size = batch_size\n",
    "        self.input_size = input_size\n",
    "        \n",
    "    def on_train_begin(self, logs={}):\n",
    "        self.test_predictions = []\n",
    "        self.valid_predictions = []\n",
    "        \n",
    "    def on_epoch_end(self,batch, logs={}):\n",
    "        self.test_predictions.append(\n",
    "            self.model.predict_generator(\n",
    "                DataGenerator(self.test_df.index, None, self.batch_size, self.input_size, self.test_images_dir), verbose=2)[:len(self.test_df)])\n",
    "        \n",
    "        # Commented out to save time\n",
    "        self.valid_predictions.append(\n",
    "             self.model.predict_generator(\n",
    "                 DataGenerator(self.valid_df.index, None, self.batch_size, self.input_size, self.valid_images_dir), verbose=2)[:len(self.valid_df)])\n",
    "        \n",
    "        print(\"validation loss: %.4f\" %\n",
    "              weighted_log_loss_metric(self.valid_df.values, \n",
    "                                  np.average(self.valid_predictions, axis=0, \n",
    "                                              weights=[2**i for i in range(len(self.valid_predictions))])))\n",
    "        \n",
    "        print(\"Test loss: %.4f\" %\n",
    "              weighted_log_loss_metric(self.test_df.values, \n",
    "                                  np.average(self.test_predictions, axis=0, \n",
    "                                              weights=[2**i for i in range(len(self.test_predictions))])))\n",
    "        \n",
    "        # here you could also save the predictions with np.save()\n"
   ]
  },
  {
   "cell_type": "code",
   "execution_count": 10,
   "metadata": {
    "colab": {},
    "colab_type": "code",
    "id": "CQkK4gYTZbc2"
   },
   "outputs": [],
   "source": [
    "class MyDeepModel:\n",
    "    \n",
    "    def __init__(self, engine, input_dims, batch_size=5, num_epochs=4, learning_rate=1e-3, \n",
    "                 decay_rate=1.0, decay_steps=1, weights=\"imagenet\", verbose=1):\n",
    "        \n",
    "        self.engine = engine\n",
    "        self.input_dims = input_dims\n",
    "        self.batch_size = batch_size\n",
    "        self.num_epochs = num_epochs\n",
    "        self.learning_rate = learning_rate\n",
    "        self.decay_rate = decay_rate\n",
    "        self.decay_steps = decay_steps\n",
    "        self.weights = weights\n",
    "        self.verbose = verbose\n",
    "        self._build()\n",
    "\n",
    "    def _build(self):\n",
    "        \n",
    "        \n",
    "        engine = self.engine(include_top=False, weights=self.weights, input_shape=self.input_dims,\n",
    "                             backend = keras.backend, layers = keras.layers,\n",
    "                             models = keras.models, utils = keras.utils)\n",
    "        \n",
    "        x = keras.layers.GlobalAveragePooling2D(name='avg_pool')(engine.output)\n",
    "#         x = keras.layers.Dropout(0.2)(x)\n",
    "#         x = keras.layers.Dense(keras.backend.int_shape(x)[1], activation=\"relu\", name=\"dense_hidden_1\")(x)\n",
    "#         x = keras.layers.Dropout(0.1)(x)\n",
    "        out = keras.layers.Dense(6, activation=\"sigmoid\", name='dense_output')(x)\n",
    "\n",
    "        self.model = keras.models.Model(inputs=engine.input, outputs=out)\n",
    "\n",
    "        self.model.compile(loss=\"binary_crossentropy\", optimizer=keras.optimizers.Adam(), metrics=[weighted_loss])\n",
    "    \n",
    "\n",
    "    def fit_and_predict(self, train_df, valid_df, test_df):\n",
    "        \n",
    "        # callbacks\n",
    "        pred_history = PredictionCheckpoint(test_df, valid_df, input_size=self.input_dims)\n",
    "        #checkpointer = keras.callbacks.ModelCheckpoint(filepath='%s-{epoch:02d}.hdf5' % self.engine.__name__, verbose=1, save_weights_only=True, save_best_only=False)\n",
    "        scheduler = keras.callbacks.LearningRateScheduler(lambda epoch: self.learning_rate * pow(self.decay_rate, floor(epoch / self.decay_steps)))\n",
    "        \n",
    "        self.model.fit_generator(\n",
    "            DataGenerator(\n",
    "                train_df.index, \n",
    "                train_df, \n",
    "                self.batch_size, \n",
    "                self.input_dims, \n",
    "                train_images_dir\n",
    "            ),\n",
    "            epochs=self.num_epochs,\n",
    "            verbose=self.verbose,\n",
    "            use_multiprocessing=True,\n",
    "            workers=4,\n",
    "            callbacks=[pred_history, scheduler]\n",
    "        )\n",
    "        \n",
    "        return pred_history\n",
    "    \n",
    "    def save(self, path):\n",
    "        self.model.save_weights(path)\n",
    "    \n",
    "    def load(self, path):\n",
    "        self.model.load_weights(path)"
   ]
  },
  {
   "cell_type": "code",
   "execution_count": 11,
   "metadata": {
    "colab": {},
    "colab_type": "code",
    "id": "uvDnP9jVbUp4"
   },
   "outputs": [],
   "source": [
    "test_df = test_df\n",
    "df = train_df"
   ]
  },
  {
   "cell_type": "code",
   "execution_count": 15,
   "metadata": {
    "colab": {
     "base_uri": "https://localhost:8080/",
     "height": 634
    },
    "colab_type": "code",
    "executionInfo": {
     "elapsed": 63690,
     "status": "ok",
     "timestamp": 1575090902972,
     "user": {
      "displayName": "Sichun Zuo",
      "photoUrl": "https://lh3.googleusercontent.com/a-/AAuE7mBbvNPPZddp06xrNsEAX05qV2sJq2DdTKmNNsuOzw=s64",
      "userId": "06566280182140570788"
     },
     "user_tz": 360
    },
    "id": "kTITUxChbm5F",
    "outputId": "a71e7a48-c95d-484c-bd27-46af8f5c93a2"
   },
   "outputs": [
    {
     "name": "stdout",
     "output_type": "stream",
     "text": [
      "Epoch 1/10\n",
      "1678/1678 [==============================] - 4930s 3s/step - loss: 0.3454 - weighted_loss: 0.3633\n",
      "validation loss: 0.3005\n",
      "Test loss: 0.3315\n",
      "Epoch 2/10\n",
      "1678/1678 [==============================] - 5067s 3s/step - loss: 0.2917 - weighted_loss: 0.3051\n",
      "validation loss: 0.3074\n",
      "Test loss: 0.3269\n",
      "Epoch 3/10\n",
      "1674/1674 [==============================] - 5251s 3s/step - loss: 0.2683 - weighted_loss: 0.2801\n",
      "validation loss: 0.2515\n",
      "Test loss: 0.2840\n",
      "Epoch 4/10\n",
      "1677/1677 [==============================] - 5213s 3s/step - loss: 0.2481 - weighted_loss: 0.2586\n",
      "validation loss: 0.2465\n",
      "Test loss: 0.2672\n",
      "Epoch 5/10\n",
      "1672/1672 [==============================] - 4910s 3s/step - loss: 0.2316 - weighted_loss: 0.2405\n",
      "validation loss: 0.2290\n",
      "Test loss: 0.2526\n",
      "Epoch 6/10\n",
      "1686/1686 [==============================] - 5014s 3s/step - loss: 0.2159 - weighted_loss: 0.2244\n",
      "validation loss: 0.2167\n",
      "Test loss: 0.2482\n",
      "Epoch 7/10\n",
      "1681/1681 [==============================] - 4938s 3s/step - loss: 0.2029 - weighted_loss: 0.2104\n",
      "validation loss: 0.2020\n",
      "Test loss: 0.2308\n",
      "Epoch 8/10\n",
      "1667/1667 [==============================] - 4924s 3s/step - loss: 0.1886 - weighted_loss: 0.1950\n",
      "validation loss: 0.1957\n",
      "Test loss: 0.2200\n",
      "Epoch 9/10\n",
      "1673/1673 [==============================] - 4925s 3s/step - loss: 0.1746 - weighted_loss: 0.1810\n",
      "validation loss: 0.1875\n",
      "Test loss: 0.2115\n",
      "Epoch 10/10\n",
      "1671/1671 [==============================] - 4904s 3s/step - loss: 0.1607 - weighted_loss: 0.1666\n",
      "validation loss: 0.1794\n",
      "Test loss: 0.2051\n"
     ]
    }
   ],
   "source": [
    "# train set (00%) and validation set (10%)\n",
    "ss = ShuffleSplit(n_splits=10, test_size=0.1, random_state=42).split(df.index)\n",
    "\n",
    "# lets go for the first fold only\n",
    "train_idx, valid_idx = next(ss)\n",
    "\n",
    "# obtain model\n",
    "model = MyDeepModel(engine=InceptionV3, input_dims=(128, 128, 3), batch_size=32, learning_rate=5e-4,\n",
    "                    num_epochs=10, decay_rate=0.8, decay_steps=1, weights=None, verbose=1)\n",
    "\n",
    "# obtain test + validation predictions (history.test_predictions, history.valid_predictions)\n",
    "history = model.fit_and_predict(df.iloc[train_idx], df.iloc[valid_idx], test_df)"
   ]
  },
  {
   "cell_type": "code",
   "execution_count": null,
   "metadata": {},
   "outputs": [],
   "source": []
  }
 ],
 "metadata": {
  "accelerator": "GPU",
  "colab": {
   "collapsed_sections": [],
   "name": "Copy of Untitled0.ipynb",
   "provenance": [
    {
     "file_id": "1JHewDt7ChWxCrwguvlDo-oAUV7wb065K",
     "timestamp": 1574451865409
    }
   ]
  },
  "kernelspec": {
   "display_name": "Python 3",
   "language": "python",
   "name": "python3"
  },
  "language_info": {
   "codemirror_mode": {
    "name": "ipython",
    "version": 3
   },
   "file_extension": ".py",
   "mimetype": "text/x-python",
   "name": "python",
   "nbconvert_exporter": "python",
   "pygments_lexer": "ipython3",
   "version": "3.6.5"
  }
 },
 "nbformat": 4,
 "nbformat_minor": 1
}
